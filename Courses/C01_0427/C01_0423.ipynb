{
 "cells": [
  {
   "cell_type": "markdown",
   "metadata": {},
   "source": [
    "1. Hello World 示例："
   ]
  },
  {
   "cell_type": "code",
   "execution_count": null,
   "metadata": {},
   "outputs": [],
   "source": [
    "print('Hello\\r\\nWorld')"
   ]
  },
  {
   "cell_type": "markdown",
   "metadata": {},
   "source": [
    "2. Python 简介"
   ]
  },
  {
   "cell_type": "code",
   "execution_count": null,
   "metadata": {},
   "outputs": [],
   "source": [
    "# 什么是 Python？\n",
    "print(\"Python 是一种高级编程语言，以简单易读著称\")\n",
    "\n",
    "# Python 的优点和应用领域\n",
    "print('Python 用途广泛，可用于网络开发、数据分析、人工智能等。')\n"
   ]
  },
  {
   "cell_type": "markdown",
   "metadata": {},
   "source": [
    "3. 变量和数据类型："
   ]
  },
  {
   "cell_type": "code",
   "execution_count": null,
   "metadata": {},
   "outputs": [],
   "source": [
    "# 整数\n",
    "num1 = 10\n",
    "\n",
    "# 浮点数\n",
    "num2 = 3.14\n",
    "\n",
    "# 字符串\n",
    "name = \"Alice\"\n",
    "\n",
    "# 布尔值\n",
    "is_student = True\n"
   ]
  },
  {
   "cell_type": "code",
   "execution_count": null,
   "metadata": {},
   "outputs": [],
   "source": [
    "number = 3.141592653589793\n",
    "# 保留两位小数\n",
    "\n",
    "print(\"{:.2f}\".format(number))\n",
    "\n",
    "print(\"%.2f\" % number)  \n",
    "\n",
    "print( f\"{number:.2f}\")  "
   ]
  },
  {
   "cell_type": "markdown",
   "metadata": {},
   "source": [
    "4. 基本操作符："
   ]
  },
  {
   "cell_type": "code",
   "execution_count": null,
   "metadata": {},
   "outputs": [],
   "source": [
    "# 算术操作符\n",
    "result = 10 + 5\n",
    "print(result)  \n",
    "\n",
    "# 比较操作符\n",
    "x = 10\n",
    "y = 20\n",
    "print(x > y)  \n",
    "\n",
    "# 赋值操作符\n",
    "x = 5\n",
    "x += 3  # 相当于 x = x + 3\n",
    "print(x)  \n",
    "\n",
    "# 逻辑操作符\n",
    "a = True\n",
    "b = False\n",
    "print(a and b) \n"
   ]
  },
  {
   "cell_type": "markdown",
   "metadata": {},
   "source": [
    "5. 控制流："
   ]
  },
  {
   "cell_type": "code",
   "execution_count": null,
   "metadata": {},
   "outputs": [],
   "source": [
    "# 条件语句\n",
    "num = 10\n",
    "if num > 0:\n",
    "    print(\"Positive\")\n",
    "elif num == 0:\n",
    "    print(\"Zero\")\n",
    "else:\n",
    "    print(\"Negative\")\n",
    "\n",
    "# 循环语句\n",
    "for i in range(5):\n",
    "    print(i)\n",
    "\n",
    "count = 0\n",
    "while count < 5:\n",
    "    print(count)\n",
    "    count += 1"
   ]
  },
  {
   "cell_type": "markdown",
   "metadata": {},
   "source": [
    "6. 数据结构："
   ]
  },
  {
   "cell_type": "code",
   "execution_count": null,
   "metadata": {},
   "outputs": [],
   "source": [
    "# 列表\n",
    "numbers = [1, 2, 3, 4, '5']\n",
    "print(numbers[0])  # 输出：1\n",
    "numbers.append(6)  # 添加元素\n",
    "print(numbers)  \n",
    "\n",
    "# 元组\n",
    "tuple1 = (1, 2, 3)\n",
    "\n",
    "# 创建一个新的元组，包含原始元组的所有元素以及要添加的新元素\n",
    "tuple1 = tuple1 + (4,)\n",
    "\n",
    "# 输出新的元组\n",
    "print(tuple1)  \n",
    "\n",
    "\n",
    "# 字典\n",
    "person = {'name': 'Alice', 'age': 30}\n",
    "print(person['name'])  \n",
    "person['city'] = 'Beijing' \n",
    "print(person) \n"
   ]
  },
  {
   "cell_type": "markdown",
   "metadata": {},
   "source": [
    "可变性（Mutability）：\n",
    "元组是不可变的（immutable），一旦创建后就不能修改其内容，包括添加、删除或修改元素。这意味着元组的内容是固定的。\n",
    "列表是可变的（mutable），可以随时添加、删除或修改其中的元素。\n",
    "语法：\n",
    "元组使用圆括号 () 来创建，元素之间使用逗号 , 分隔。\n",
    "列表使用方括号 [] 来创建，元素之间也使用逗号 , 分隔。\n",
    "使用场景：\n",
    "如果需要创建一个固定内容的序列，并且不希望其被修改，通常会使用元组。\n",
    "如果需要一个可以动态添加或删除元素的序列，通常会使用列表。\n",
    "性能：\n",
    "由于元组是不可变的，其在创建后的内存空间是固定的，因此元组的访问速度通常会比列表更快。\n",
    "列表的可变性可能会导致其在操作时需要更多的内存和时间"
   ]
  },
  {
   "cell_type": "markdown",
   "metadata": {},
   "source": [
    "7. 函数："
   ]
  },
  {
   "cell_type": "code",
   "execution_count": null,
   "metadata": {},
   "outputs": [],
   "source": [
    "# 函数定义和调用\n",
    "def greet(name):\n",
    "    '''\n",
    "    name: 名字\n",
    "    打印名字\n",
    "    '''\n",
    "    print(\"Hello, \" + name + \"!\")\n",
    "    \n",
    "greet(\"Alice\")  # 输出：Hello, Alice!\n",
    "\n",
    "# 函数参数和返回值\n",
    "def add(x, y):\n",
    "    return x + y\n",
    "\n",
    "result = add(3, 5)\n",
    "print(result)  # 输出：8\n",
    "\n",
    "# 内置函数和自定义函数\n",
    "print(len(\"Python\"))  # 输出：6\n"
   ]
  },
  {
   "cell_type": "code",
   "execution_count": null,
   "metadata": {},
   "outputs": [],
   "source": [
    "greet?"
   ]
  },
  {
   "cell_type": "code",
   "execution_count": null,
   "metadata": {},
   "outputs": [],
   "source": [
    "# 简单的文本游戏\n",
    "print(\"欢迎来到文字冒险游戏！!\")\n",
    "\n",
    "name = input(\"你叫什么名字？ \")\n",
    "print(\"你好, \" + name + \"!\")\n",
    "\n",
    "print(\"你发现自己在一个黑暗的房间里。有两扇门。\")\n",
    "choice = input(\"您选择哪扇门？(左/右）  \")\n",
    "\n",
    "if choice == \"左\":\n",
    "    print(\"您进入了藏宝室。恭喜您，您赢了！\")\n",
    "elif choice == \"右\":\n",
    "    print(\"你遇到了怪物。游戏结束！\")\n",
    "else:\n",
    "    print(\"选择无效。游戏结束！\")\n"
   ]
  },
  {
   "cell_type": "markdown",
   "metadata": {},
   "source": [
    "8. 模块和包"
   ]
  },
  {
   "cell_type": "code",
   "execution_count": null,
   "metadata": {},
   "outputs": [],
   "source": [
    "import math\n",
    "print(math.exp(2))"
   ]
  },
  {
   "cell_type": "code",
   "execution_count": null,
   "metadata": {},
   "outputs": [],
   "source": [
    "from math import exp\n",
    "print(exp(101))"
   ]
  },
  {
   "cell_type": "markdown",
   "metadata": {},
   "source": [
    "9. 错误处理"
   ]
  },
  {
   "cell_type": "code",
   "execution_count": null,
   "metadata": {},
   "outputs": [],
   "source": [
    "# 异常的概念。\n",
    "try:\n",
    "    result = 10 / 0\n",
    "except ZeroDivisionError:\n",
    "    print(\"Cannot divide by zero.\")\n"
   ]
  },
  {
   "cell_type": "markdown",
   "metadata": {},
   "source": [
    "10. 文件操作"
   ]
  },
  {
   "cell_type": "code",
   "execution_count": null,
   "metadata": {},
   "outputs": [],
   "source": [
    "# 打开和关闭文件。\n",
    "file = open(\"example.txt\", \"w\")\n",
    "file.write(\"Hello, world!\")\n",
    "file.close()\n",
    "\n",
    "# 读取和写入文件。\n",
    "file = open(\"example.txt\", \"r\")\n",
    "content = file.read()\n",
    "print(content)\n",
    "file.close()\n"
   ]
  },
  {
   "cell_type": "markdown",
   "metadata": {},
   "source": [
    "11. 多线程和多进程"
   ]
  },
  {
   "cell_type": "code",
   "execution_count": null,
   "metadata": {},
   "outputs": [],
   "source": [
    "import threading\n",
    "import multiprocessing\n",
    "\n",
    "# 多线程示例\n",
    "def thread_task(name):\n",
    "    print(\"Thread\", name)\n",
    "\n",
    "threads = []\n",
    "for i in range(5):\n",
    "    t = threading.Thread(target=thread_task, args=(i,))\n",
    "    threads.append(t)\n",
    "    t.start()\n",
    "\n",
    "for t in threads:\n",
    "    t.join()\n",
    "\n",
    "# 多进程示例\n",
    "def process_task(name):\n",
    "    print(\"Process\", name)\n",
    "\n",
    "processes = []\n",
    "for i in range(5):\n",
    "    p = multiprocessing.Process(target=process_task, args=(i,))\n",
    "    processes.append(p)\n",
    "    p.start()\n",
    "\n",
    "for p in processes:\n",
    "    p.join()\n"
   ]
  },
  {
   "cell_type": "code",
   "execution_count": null,
   "metadata": {},
   "outputs": [],
   "source": [
    "!pip install nest-asyncio"
   ]
  },
  {
   "cell_type": "markdown",
   "metadata": {},
   "source": [
    "12. 异步编程"
   ]
  },
  {
   "cell_type": "code",
   "execution_count": null,
   "metadata": {},
   "outputs": [],
   "source": [
    "import asyncio\n",
    "import nest_asyncio\n",
    "\n",
    "# 使用 nest_asyncio 解决嵌套事件循环的问题\n",
    "nest_asyncio.apply()\n",
    "\n",
    "async def inner_coroutine():\n",
    "    print(\"Inner coroutine is running\")\n",
    "    await asyncio.sleep(1)\n",
    "    print(\"Inner coroutine is done\")\n",
    "\n",
    "async def outer_coroutine():\n",
    "    print(\"Outer coroutine is running\")\n",
    "    await inner_coroutine()\n",
    "    print(\"Outer coroutine is done\")\n",
    "\n",
    "async def main():\n",
    "    await outer_coroutine()\n",
    "\n",
    "asyncio.run(main())\n"
   ]
  },
  {
   "cell_type": "code",
   "execution_count": null,
   "metadata": {},
   "outputs": [],
   "source": [
    "# 定义一个简单的类\n",
    "class Animal:\n",
    "    def __init__(self, name):\n",
    "        self.name = name\n",
    "    \n",
    "    def speak(self):\n",
    "        raise NotImplementedError(\"Subclass must implement abstract method\")\n",
    "\n",
    "# 创建一个 Animal 类的子类\n",
    "class Dog(Animal):\n",
    "    def speak(self):\n",
    "        return f\"{self.name} 汪汪!\"\n",
    "\n",
    "class Cat(Animal):\n",
    "    def speak(self):\n",
    "        return f\"{self.name} 喵喵!\"\n",
    "\n",
    "# 创建对象并调用方法\n",
    "dog = Dog(\"大黄\")\n",
    "cat = Cat(\"小强\")\n",
    "\n",
    "print(dog.speak())  \n",
    "print(cat.speak())  \n",
    "\n",
    "# 多态性：通过基类的方法来调用不同子类的实现\n",
    "def animal_speak(animal):\n",
    "    print(animal.speak())\n",
    "\n",
    "animal_speak(dog) \n",
    "animal_speak(cat) \n"
   ]
  },
  {
   "cell_type": "markdown",
   "metadata": {},
   "source": [
    "实现简单计算机，计算结果存入文件"
   ]
  }
 ],
 "metadata": {
  "kernelspec": {
   "display_name": "chatcaht",
   "language": "python",
   "name": "python3"
  },
  "language_info": {
   "codemirror_mode": {
    "name": "ipython",
    "version": 3
   },
   "file_extension": ".py",
   "mimetype": "text/x-python",
   "name": "python",
   "nbconvert_exporter": "python",
   "pygments_lexer": "ipython3",
   "version": "3.10.13"
  }
 },
 "nbformat": 4,
 "nbformat_minor": 2
}
