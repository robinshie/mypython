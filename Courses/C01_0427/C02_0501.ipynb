{
 "cells": [
  {
   "cell_type": "code",
   "execution_count": 4,
   "metadata": {},
   "outputs": [],
   "source": [
    "import numpy as np\n",
    "\n",
    "\n"
   ]
  },
  {
   "cell_type": "code",
   "execution_count": 5,
   "metadata": {},
   "outputs": [],
   "source": [
    "# 从列表创建数组\n",
    "arr_from_list = np.array([1, 2, 3, 4, 5])\n"
   ]
  },
  {
   "cell_type": "code",
   "execution_count": 7,
   "metadata": {},
   "outputs": [
    {
     "data": {
      "text/plain": [
       "5"
      ]
     },
     "execution_count": 7,
     "metadata": {},
     "output_type": "execute_result"
    }
   ],
   "source": [
    "arr_from_list.size"
   ]
  },
  {
   "cell_type": "code",
   "execution_count": 8,
   "metadata": {},
   "outputs": [
    {
     "name": "stdout",
     "output_type": "stream",
     "text": [
      "从列表创建的数组： [1 2 3 4 5]\n",
      "从元组创建的数组： [1 2 3 4 5]\n"
     ]
    }
   ],
   "source": [
    "print(\"从列表创建的数组：\", arr_from_list)\n",
    "\n",
    "# 从元组创建数组\n",
    "arr_from_tuple = np.array((1, 2, 3, 4, 5))\n",
    "print(\"从元组创建的数组：\", arr_from_tuple)"
   ]
  },
  {
   "cell_type": "code",
   "execution_count": 9,
   "metadata": {},
   "outputs": [
    {
     "name": "stdout",
     "output_type": "stream",
     "text": [
      "全零数组：\n",
      " [[0. 0. 0.]\n",
      " [0. 0. 0.]]\n"
     ]
    }
   ],
   "source": [
    "# 创建全零数组\n",
    "zeros_array = np.zeros((2, 3))\n",
    "print(\"全零数组：\\n\", zeros_array)"
   ]
  },
  {
   "cell_type": "code",
   "execution_count": 11,
   "metadata": {},
   "outputs": [
    {
     "data": {
      "text/plain": [
       "(2, 3)"
      ]
     },
     "execution_count": 11,
     "metadata": {},
     "output_type": "execute_result"
    }
   ],
   "source": [
    "zeros_array.shape()"
   ]
  },
  {
   "cell_type": "code",
   "execution_count": 12,
   "metadata": {},
   "outputs": [
    {
     "data": {
      "text/plain": [
       "6"
      ]
     },
     "execution_count": 12,
     "metadata": {},
     "output_type": "execute_result"
    }
   ],
   "source": [
    "zeros_array.size"
   ]
  },
  {
   "cell_type": "markdown",
   "metadata": {},
   "source": [
    "https://lekhuyen.medium.com/an-overview-of-vgg16-and-nin-models-96e4bf398484\n"
   ]
  },
  {
   "cell_type": "code",
   "execution_count": null,
   "metadata": {},
   "outputs": [],
   "source": []
  },
  {
   "cell_type": "code",
   "execution_count": 16,
   "metadata": {},
   "outputs": [
    {
     "name": "stdout",
     "output_type": "stream",
     "text": [
      "全一数组：\n",
      " [[1. 1. 1.]\n",
      " [1. 1. 1.]\n",
      " [1. 1. 1.]]\n",
      "指定范围的数组： [0 2 4 6 8]\n",
      "等间隔的数组： [0.         0.55555556 1.11111111 1.66666667 2.22222222 2.77777778\n",
      " 3.33333333 3.88888889 4.44444444 5.        ]\n",
      "随机数组：\n",
      " [[0.91787368 0.63114378 0.4946784 ]\n",
      " [0.7416772  0.5228661  0.60821969]\n",
      " [0.86481856 0.758726   0.31946533]]\n"
     ]
    }
   ],
   "source": [
    "\n",
    "\n",
    "# 创建全一数组\n",
    "ones_array = np.ones((3, 3))\n",
    "print(\"全一数组：\\n\", ones_array)\n",
    "\n",
    "# 创建指定范围的数组\n",
    "range_array = np.arange(0, 10, 2)  # 从0到10，步长为2\n",
    "print(\"指定范围的数组：\", range_array)\n",
    "\n",
    "# 创建等间隔的数组\n",
    "linspace_array = np.linspace(0, 5, 10)  # 从0到5，生成10个等间隔的数\n",
    "print(\"等间隔的数组：\", linspace_array)\n",
    "\n",
    "# 创建随机数组\n",
    "random_array = np.random.rand(3, 3)  # 生成一个3x3的随机数组\n",
    "print(\"随机数组：\\n\", random_array)\n"
   ]
  },
  {
   "cell_type": "code",
   "execution_count": 18,
   "metadata": {},
   "outputs": [
    {
     "data": {
      "text/plain": [
       "array([[0.91787368, 0.63114378, 0.4946784 ],\n",
       "       [0.7416772 , 0.5228661 , 0.60821969],\n",
       "       [0.86481856, 0.758726  , 0.31946533]])"
      ]
     },
     "execution_count": 18,
     "metadata": {},
     "output_type": "execute_result"
    }
   ],
   "source": [
    "ones_array*random_array"
   ]
  },
  {
   "cell_type": "code",
   "execution_count": 19,
   "metadata": {},
   "outputs": [
    {
     "data": {
      "text/plain": [
       "array([[0.84249209, 0.39834247, 0.24470672],\n",
       "       [0.55008508, 0.27338896, 0.36993119],\n",
       "       [0.74791114, 0.57566514, 0.10205809]])"
      ]
     },
     "execution_count": 19,
     "metadata": {},
     "output_type": "execute_result"
    }
   ],
   "source": [
    "random_array*random_array"
   ]
  },
  {
   "cell_type": "code",
   "execution_count": 21,
   "metadata": {},
   "outputs": [
    {
     "name": "stdout",
     "output_type": "stream",
     "text": [
      "数组形状： (3, 3)\n",
      "数组大小： 9\n",
      "数组维度： 2\n",
      "数组数据类型： float64\n"
     ]
    }
   ],
   "source": [
    "# 数组的形状\n",
    "print(\"数组形状：\", random_array.shape)\n",
    "\n",
    "# 数组的大小\n",
    "print(\"数组大小：\", random_array.size)\n",
    "\n",
    "# 数组的维度\n",
    "print(\"数组维度：\", random_array.ndim)\n",
    "\n",
    "# 数组的数据类型\n",
    "print(\"数组数据类型：\", random_array.dtype)\n"
   ]
  },
  {
   "cell_type": "code",
   "execution_count": 22,
   "metadata": {},
   "outputs": [
    {
     "name": "stdout",
     "output_type": "stream",
     "text": [
      "第一个元素： 1\n",
      "最后一个元素： 5\n",
      "前三个元素： [1 2 3]\n",
      "后两个元素： [4 5]\n",
      "数组转置： [1 2 3 4 5]\n",
      "重塑后的数组：\n",
      " [[1]\n",
      " [2]\n",
      " [3]\n",
      " [4]\n",
      " [5]]\n",
      "拼接后的数组： [1 2 3 4 5 1 2 3 4 5]\n"
     ]
    }
   ],
   "source": [
    "# 访问数组元素\n",
    "print(\"第一个元素：\", arr_from_list[0])\n",
    "print(\"最后一个元素：\", arr_from_list[-1])\n",
    "print(\"前三个元素：\", arr_from_list[:3])\n",
    "print(\"后两个元素：\", arr_from_list[-2:])\n",
    "\n",
    "# 数组的转置\n",
    "arr_transposed = np.transpose(arr_from_list)\n",
    "print(\"数组转置：\", arr_transposed)\n",
    "\n",
    "# 数组的重塑\n",
    "reshaped_array = arr_from_list.reshape(5, 1)\n",
    "print(\"重塑后的数组：\\n\", reshaped_array)\n",
    "\n",
    "# 数组的拼接\n",
    "concatenated_array = np.concatenate([arr_from_list, arr_from_list])\n",
    "print(\"拼接后的数组：\", concatenated_array)\n"
   ]
  },
  {
   "cell_type": "code",
   "execution_count": 23,
   "metadata": {},
   "outputs": [
    {
     "name": "stdout",
     "output_type": "stream",
     "text": [
      "数组相加：\n",
      " [[ 6  8]\n",
      " [10 12]]\n",
      "数组相减：\n",
      " [[-4 -4]\n",
      " [-4 -4]]\n",
      "数组相乘：\n",
      " [[ 5 12]\n",
      " [21 32]]\n",
      "数组相除：\n",
      " [[0.2        0.33333333]\n",
      " [0.42857143 0.5       ]]\n",
      "数组平方根：\n",
      " [[1.         1.41421356]\n",
      " [1.73205081 2.        ]]\n"
     ]
    }
   ],
   "source": [
    "arr_a = np.array([[1, 2], [3, 4]])\n",
    "arr_b = np.array([[5, 6], [7, 8]])\n",
    "\n",
    "# 数组相加\n",
    "print(\"数组相加：\\n\", arr_a + arr_b)\n",
    "\n",
    "# 数组相减\n",
    "print(\"数组相减：\\n\", arr_a - arr_b)\n",
    "\n",
    "# 数组相乘\n",
    "print(\"数组相乘：\\n\", arr_a * arr_b)\n",
    "\n",
    "# 数组相除\n",
    "print(\"数组相除：\\n\", arr_a / arr_b)\n",
    "\n",
    "# 数组平方根\n",
    "print(\"数组平方根：\\n\", np.sqrt(arr_a))\n"
   ]
  },
  {
   "cell_type": "code",
   "execution_count": 25,
   "metadata": {},
   "outputs": [
    {
     "name": "stdout",
     "output_type": "stream",
     "text": [
      "数组大于2的元素：\n",
      " [[False False]\n",
      " [ True  True]]\n",
      "数组是否存在0元素： True\n"
     ]
    }
   ],
   "source": [
    "arr_c = np.array([[1, 0], [3, 4]])\n",
    "\n",
    "# 数组大于2的元素\n",
    "print(\"数组大于2的元素：\\n\", arr_c > 2)\n",
    "\n",
    "# 数组是否存在0元素\n",
    "print(\"数组是否存在0元素：\", np.any(arr_c == 0))\n"
   ]
  },
  {
   "cell_type": "code",
   "execution_count": 7,
   "metadata": {},
   "outputs": [
    {
     "name": "stdout",
     "output_type": "stream",
     "text": [
      "数组的最小值： 1\n",
      "数组的最大值： 4\n",
      "数组的平均值： 2.5\n",
      "数组的标准差： 1.118033988749895\n",
      "数组的和： 10\n"
     ]
    }
   ],
   "source": [
    "# 数组的最小值\n",
    "print(\"数组的最小值：\", np.min(arr_a))\n",
    "\n",
    "# 数组的最大值\n",
    "print(\"数组的最大值：\", np.max(arr_a))\n",
    "\n",
    "# 数组的平均值\n",
    "print(\"数组的平均值：\", np.mean(arr_a))\n",
    "\n",
    "# 数组的标准差\n",
    "print(\"数组的标准差：\", np.std(arr_a))\n",
    "\n",
    "# 数组的和\n",
    "print(\"数组的和：\", np.sum(arr_a))\n"
   ]
  },
  {
   "cell_type": "code",
   "execution_count": 8,
   "metadata": {},
   "outputs": [
    {
     "name": "stdout",
     "output_type": "stream",
     "text": [
      "第一行第一列的元素： 1\n",
      "第二行： [4 5 6]\n",
      "第一列： [1 4 7]\n",
      "前两行：\n",
      " [[1 2 3]\n",
      " [4 5 6]]\n"
     ]
    }
   ],
   "source": [
    "arr = np.array([[1, 2, 3], [4, 5, 6], [7, 8, 9]])\n",
    "\n",
    "# 访问数组元素\n",
    "print(\"第一行第一列的元素：\", arr[0, 0])\n",
    "\n",
    "# 获取第二行\n",
    "print(\"第二行：\", arr[1, :])\n",
    "\n",
    "# 获取第一列\n",
    "print(\"第一列：\", arr[:, 0])\n",
    "\n",
    "# 切片\n",
    "print(\"前两行：\\n\", arr[:2, :])\n"
   ]
  },
  {
   "cell_type": "code",
   "execution_count": 16,
   "metadata": {},
   "outputs": [
    {
     "name": "stdout",
     "output_type": "stream",
     "text": [
      "[1 2 3]\n",
      "[4 5 6]\n",
      "[7 8 9]\n"
     ]
    }
   ],
   "source": [
    "# 使用迭代遍历数组\n",
    "for row in arr:\n",
    "    print(row)\n"
   ]
  },
  {
   "cell_type": "code",
   "execution_count": 17,
   "metadata": {},
   "outputs": [
    {
     "name": "stdout",
     "output_type": "stream",
     "text": [
      "一维数组： [1 2 3 4 5 6 7 8 9]\n"
     ]
    }
   ],
   "source": [
    "# 使用 flatten() 方法将多维数组转换为一维数组\n",
    "flatten_arr = arr.flatten()\n",
    "print(\"一维数组：\", flatten_arr)\n"
   ]
  }
 ],
 "metadata": {
  "kernelspec": {
   "display_name": "chatcaht",
   "language": "python",
   "name": "python3"
  },
  "language_info": {
   "codemirror_mode": {
    "name": "ipython",
    "version": 3
   },
   "file_extension": ".py",
   "mimetype": "text/x-python",
   "name": "python",
   "nbconvert_exporter": "python",
   "pygments_lexer": "ipython3",
   "version": "3.10.13"
  }
 },
 "nbformat": 4,
 "nbformat_minor": 2
}
