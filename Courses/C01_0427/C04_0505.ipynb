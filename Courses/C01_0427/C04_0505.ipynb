{
  "cells": [
    {
      "attachments": {},
      "cell_type": "markdown",
      "metadata": {
        "id": "cinq72Jckqnp"
      },
      "source": [
        "# **Deep learning entry task**\n",
        " <img src=\"https://www.tu-braunschweig.de/typo3conf/ext/tu_braunschweig/Resources/Public/Images/Logos/tu_braunschweig_logo.svg\" align=\"right\" width=\"200px\"/>\n",
        "\n",
        "[Institute of Geodesy and Photogrammetry](https://www.tu-braunschweig.de/en/igp),  \n",
        "[The Technical University of Braunschweig  ](https://www.tu-braunschweig.de/en/)  \n",
        "Instructors: [Dr. -Ing. Mehdi Maboudi](https://www.tu-braunschweig.de/en/igp/staff/mehdi-maboudi) and [Dr. Pedro Achanccaray](https://www.tu-braunschweig.de/en/igp/staff/pedro-diaz)\n",
        "<br clear=\"left\"/>"
      ]
    },
    {
      "cell_type": "markdown",
      "metadata": {},
      "source": [
        "The purpose of this entry task is to measure your **knowledge of machine learning and artificial neural network concepts**. You should be familiar with these topics for **better understanding and comprehension** of the deep learning course.\n",
        "\n",
        "\n",
        "For this reason, the entry task should be solved **without using any artificial intelligence tools** (ChatGPT, Copilot, among others). You can only use them to assist you in **debugging** your code."
      ]
    },
    {
      "cell_type": "markdown",
      "metadata": {
        "id": "We3qMEvHk5iS"
      },
      "source": [
        "# **1. Import all necessary packages**"
      ]
    },
    {
      "cell_type": "code",
      "execution_count": 1,
      "metadata": {
        "id": "4cEKc2I2lCEs"
      },
      "outputs": [],
      "source": [
        "import torch\n",
        "import torchvision\n",
        "import torchvision.transforms as transforms\n",
        "import torch.nn as nn\n",
        "import torch.optim as optim\n",
        "import torch.nn.functional as F\n",
        "import numpy as np\n",
        "from typing import List \n",
        "from torch.utils.data import TensorDataset, DataLoader"
      ]
    },
    {
      "cell_type": "code",
      "execution_count": 2,
      "metadata": {},
      "outputs": [
        {
          "name": "stdout",
          "output_type": "stream",
          "text": [
            "cuda:0\n"
          ]
        }
      ],
      "source": [
        "print(torch.device(\"cuda:0\" if torch.cuda.is_available() else \"cpu\"))"
      ]
    },
    {
      "cell_type": "code",
      "execution_count": 3,
      "metadata": {},
      "outputs": [],
      "source": [
        "device=torch.device(\"cuda:0\" if torch.cuda.is_available() else \"cpu\")"
      ]
    },
    {
      "cell_type": "code",
      "execution_count": 4,
      "metadata": {},
      "outputs": [],
      "source": [
        "# Define the classes\n",
        "classes = ('T-shirt/top', 'Trouser', 'Pullover', 'Dress', 'Coat', 'Sandal', 'Shirt', 'Sneaker', 'Bag', 'Ankle boot')\n"
      ]
    },
    {
      "cell_type": "markdown",
      "metadata": {},
      "source": [
        "# **2. Load the Fashion MNIST dataset for image classification**"
      ]
    },
    {
      "attachments": {},
      "cell_type": "markdown",
      "metadata": {
        "id": "4nm6BDwQkwil"
      },
      "source": [
        "- Load the Fashion MNIST dataset.\n",
        "- Create three disjoint sets: train, validation and test (you can use any proportions for these sets)."
      ]
    },
    {
      "cell_type": "code",
      "execution_count": 5,
      "metadata": {},
      "outputs": [],
      "source": [
        "train_data = torchvision.datasets.FashionMNIST('data', train=True, download=True,\n",
        "                                   transform=transforms.Compose([\n",
        "                                       transforms.ToTensor(),\n",
        "                                   ]))\n",
        "train_loader = DataLoader(train_data, batch_size=64, shuffle=False)"
      ]
    },
    {
      "cell_type": "code",
      "execution_count": 6,
      "metadata": {},
      "outputs": [],
      "source": [
        "n_samples_seen = 0.\n",
        "mean = 0\n",
        "std = 0\n",
        "for train_batch, train_target in train_loader:\n",
        "    batch_size = train_batch.shape[0]\n",
        "    train_batch = train_batch.view(batch_size, -1)\n",
        "    this_mean = torch.mean(train_batch, dim=1)\n",
        "    this_std = torch.sqrt(\n",
        "        torch.mean((train_batch - this_mean[:, None]) ** 2, dim=1))\n",
        "    mean += torch.sum(this_mean, dim=0)\n",
        "    std += torch.sum(this_std, dim=0)\n",
        "    n_samples_seen += batch_size\n",
        "\n",
        "mean /= n_samples_seen\n",
        "std /= n_samples_seen"
      ]
    },
    {
      "cell_type": "code",
      "execution_count": 7,
      "metadata": {},
      "outputs": [
        {
          "data": {
            "text/plain": [
              "tensor(0.2860)"
            ]
          },
          "execution_count": 7,
          "metadata": {},
          "output_type": "execute_result"
        }
      ],
      "source": [
        "mean"
      ]
    },
    {
      "cell_type": "code",
      "execution_count": 8,
      "metadata": {},
      "outputs": [
        {
          "data": {
            "text/plain": [
              "tensor(0.3202)"
            ]
          },
          "execution_count": 8,
          "metadata": {},
          "output_type": "execute_result"
        }
      ],
      "source": [
        "std"
      ]
    },
    {
      "cell_type": "code",
      "execution_count": 9,
      "metadata": {},
      "outputs": [],
      "source": [
        "composer = transforms.Compose([transforms.ToTensor(),\n",
        "                               transforms.RandomCrop(28,padding=1),\n",
        "                               transforms.Normalize(mean=mean.view(1),\n",
        "                                                            std=std.view(1))])"
      ]
    },
    {
      "cell_type": "code",
      "execution_count": 10,
      "metadata": {},
      "outputs": [],
      "source": [
        "train_data = torchvision.datasets.FashionMNIST('data', train=True, download=True,\n",
        "                                   transform=composer)\n",
        "\n",
        "test_data = torchvision.datasets.FashionMNIST('data', train=False, download=True,\n",
        "                                  transform=composer)\n",
        "\n"
      ]
    },
    {
      "cell_type": "code",
      "execution_count": 11,
      "metadata": {},
      "outputs": [],
      "source": [
        "validation_ratio= 0.2"
      ]
    },
    {
      "cell_type": "code",
      "execution_count": 12,
      "metadata": {},
      "outputs": [],
      "source": [
        "num_train = len(train_data)\n",
        "indices = list(range(num_train))\n",
        "split = int(np.floor(validation_ratio * num_train))"
      ]
    },
    {
      "cell_type": "code",
      "execution_count": 13,
      "metadata": {},
      "outputs": [],
      "source": [
        "# Shuffle the indices\n",
        "np.random.shuffle(indices)"
      ]
    },
    {
      "cell_type": "code",
      "execution_count": 14,
      "metadata": {},
      "outputs": [],
      "source": [
        "train_idx, valid_idx = indices[split:], indices[:split]"
      ]
    },
    {
      "cell_type": "code",
      "execution_count": 15,
      "metadata": {},
      "outputs": [],
      "source": [
        "# Define samplers for obtaining training and validation batches\n",
        "train_sampler = torch.utils.data.sampler.SubsetRandomSampler(train_idx)\n",
        "valid_sampler = torch.utils.data.sampler.SubsetRandomSampler(valid_idx)\n"
      ]
    },
    {
      "cell_type": "code",
      "execution_count": 16,
      "metadata": {},
      "outputs": [],
      "source": [
        "# Define data loaders for training, validation, and test sets\n",
        "train_loader = torch.utils.data.DataLoader(train_data, batch_size=64, sampler=train_sampler, num_workers=2)\n",
        "valid_loader = torch.utils.data.DataLoader(train_data, batch_size=64, sampler=valid_sampler, num_workers=2)\n",
        "test_loader = torch.utils.data.DataLoader(test_data, batch_size=64, shuffle=False, num_workers=2)\n"
      ]
    },
    {
      "cell_type": "markdown",
      "metadata": {},
      "source": [
        "In your own words, describe the purpose of each set:\n",
        "- _train_:\n",
        "- _validation_:\n",
        "- _test_:"
      ]
    },
    {
      "cell_type": "markdown",
      "metadata": {},
      "source": [
        "# **3. Create a Multi Layer Perceptron (MLP) for image classification**"
      ]
    },
    {
      "cell_type": "markdown",
      "metadata": {
        "id": "u5DSZu_xkwza"
      },
      "source": [
        "\n",
        "Feel free to use any configuration (number of hidden layers, number of neurons per layer) and framework (Scikit learn, Keras, TensorFlow, PyTorch, etc.)"
      ]
    },
    {
      "cell_type": "code",
      "execution_count": 17,
      "metadata": {
        "id": "WMT1O9vclNpx"
      },
      "outputs": [],
      "source": [
        "class ResidualBlock(torch.nn.Module):\n",
        "    def __init__(self,channels):\n",
        "        super(ResidualBlock,self).__init__()\n",
        "        self.channels = channels\n",
        "        \n",
        "        self.conv1 = torch.nn.Conv2d(channels,channels,kernel_size=3,padding=1)\n",
        "        self.conv2 = torch.nn.Conv2d(channels,channels,kernel_size=3,padding=1)\n",
        "    \n",
        "    def forward(self, x):\n",
        "        y = F.relu(self.conv1(x))\n",
        "        y = self.conv2(y)\n",
        "        return F.relu(x+y)\n"
      ]
    },
    {
      "cell_type": "code",
      "execution_count": 18,
      "metadata": {},
      "outputs": [],
      "source": [
        "class Net(torch.nn.Module):\n",
        "    def __init__(self,input_size=1,hidden_size=16,hidden_size2=32,classes=10):\n",
        "        super(Net,self).__init__()\n",
        "        self.conv1 = torch.nn.Conv2d(input_size,hidden_size,kernel_size=5)\n",
        "        self.conv2 = torch.nn.Conv2d(hidden_size,hidden_size2,kernel_size=5)\n",
        "        self.mp = torch.nn.MaxPool2d(2)\n",
        "        \n",
        "        self.rblock1 = ResidualBlock(hidden_size)\n",
        "        self.rblock2 = ResidualBlock(hidden_size2)\n",
        "        \n",
        "        self.fc = torch.nn.Linear(512,classes)\n",
        "        \n",
        "    def forward(self,x):\n",
        "        in_size = x.size(0)\n",
        "        x = self.mp(F.relu(self.conv1(x)))\n",
        "        x = self.rblock1(x)\n",
        "        x = self.mp(F.relu(self.conv2(x)))\n",
        "        x = self.rblock2(x)\n",
        "        x = x.view(in_size,-1)  # flatten\n",
        "#         print(x.size(1))\n",
        "        return self.fc(x)\n",
        "model = Net()\n"
      ]
    },
    {
      "cell_type": "code",
      "execution_count": 19,
      "metadata": {},
      "outputs": [],
      "source": [
        "net = Net().to(device)"
      ]
    },
    {
      "cell_type": "code",
      "execution_count": 20,
      "metadata": {},
      "outputs": [
        {
          "data": {
            "text/plain": [
              "Net(\n",
              "  (conv1): Conv2d(1, 16, kernel_size=(5, 5), stride=(1, 1))\n",
              "  (conv2): Conv2d(16, 32, kernel_size=(5, 5), stride=(1, 1))\n",
              "  (mp): MaxPool2d(kernel_size=2, stride=2, padding=0, dilation=1, ceil_mode=False)\n",
              "  (rblock1): ResidualBlock(\n",
              "    (conv1): Conv2d(16, 16, kernel_size=(3, 3), stride=(1, 1), padding=(1, 1))\n",
              "    (conv2): Conv2d(16, 16, kernel_size=(3, 3), stride=(1, 1), padding=(1, 1))\n",
              "  )\n",
              "  (rblock2): ResidualBlock(\n",
              "    (conv1): Conv2d(32, 32, kernel_size=(3, 3), stride=(1, 1), padding=(1, 1))\n",
              "    (conv2): Conv2d(32, 32, kernel_size=(3, 3), stride=(1, 1), padding=(1, 1))\n",
              "  )\n",
              "  (fc): Linear(in_features=512, out_features=10, bias=True)\n",
              ")"
            ]
          },
          "execution_count": 20,
          "metadata": {},
          "output_type": "execute_result"
        }
      ],
      "source": [
        "net"
      ]
    },
    {
      "cell_type": "markdown",
      "metadata": {},
      "source": [
        "# **4. Train the model**"
      ]
    },
    {
      "attachments": {},
      "cell_type": "markdown",
      "metadata": {
        "id": "MEKQa49Ckw1s"
      },
      "source": [
        "Train the model and perform a hyperparameter tuning to find the best learning rate from a set of learning rates (1D grid search)."
      ]
    },
    {
      "cell_type": "code",
      "execution_count": 21,
      "metadata": {
        "id": "J2bvbZr4lfbl"
      },
      "outputs": [],
      "source": [
        "criterion = nn.CrossEntropyLoss()"
      ]
    },
    {
      "cell_type": "code",
      "execution_count": 22,
      "metadata": {},
      "outputs": [],
      "source": [
        "learning_rates = [0.001,0.01]\n",
        "max_acc_div_error=[]\n"
      ]
    },
    {
      "cell_type": "code",
      "execution_count": 23,
      "metadata": {},
      "outputs": [],
      "source": [
        "class EpochDate:\n",
        "    def __init__(self,epoch:int,losses:List[float],accuracies:List[float]) -> None:\n",
        "        self.epoch = epoch\n",
        "        self.losses = losses\n",
        "        self.accuracies = accuracies\n",
        "    def __str__(self) -> str:\n",
        "        return f\" Epoco: {self.epoch}, Loss: {self.losses}, Acc: {self.accuracies}\"\n"
      ]
    },
    {
      "cell_type": "code",
      "execution_count": 24,
      "metadata": {},
      "outputs": [],
      "source": [
        "class PlotData:\n",
        "    def __init__(self,lr,epochDate:List[EpochDate]) -> None:\n",
        "        self.lr = lr\n",
        "        self.epochDate = epochDate\n",
        "    def __str__(self) -> str:\n",
        "        return f\" lr: {self.lr}, epochDate: {self.epochDate}\"\n",
        "\n",
        "    \n",
        "    "
      ]
    },
    {
      "cell_type": "code",
      "execution_count": 25,
      "metadata": {},
      "outputs": [],
      "source": [
        "plot_train_Datas = []\n",
        "plot_vali_Datas = []\n",
        "def train(lr):\n",
        "    net = Net().to(device)\n",
        "    epochs = 10\n",
        "       # Lists to store loss and accuracy values\n",
        "    train_losses = []\n",
        "    train_accuracy = []\n",
        "    train__epochDate = []\n",
        "\n",
        "    valid_losses = []\n",
        "    valid_accuracy = []\n",
        "    valid__epochDate = []\n",
        "    \n",
        "    optimizer = optim.SGD(net.parameters(), lr=lr, momentum=0.9)\n",
        "    \n",
        "    for epoch in range(epochs):\n",
        "          # loop over the dataset multiple times\n",
        "\n",
        "        running_loss = 0.0\n",
        "        running_correct = 0\n",
        "        running_total = 0\n",
        "        for i, data in enumerate(train_loader, 0):\n",
        "            inputs, labels = data[0].to(device), data[1].to(device)\n",
        "\n",
        "        \n",
        "            outputs = net(inputs)\n",
        "            loss = criterion(outputs, labels)\n",
        "            optimizer.zero_grad()\n",
        "            loss.backward()\n",
        "            optimizer.step()\n",
        "\n",
        "            running_loss += loss.item()\n",
        "\n",
        "            _, predicted = torch.max(outputs.data, 1)\n",
        "            running_total += labels.size(0)\n",
        "            running_correct += (predicted == labels).sum().item()\n",
        "\n",
        "        runningloss = running_loss / running_total\n",
        "        \n",
        "        train_losses.append(runningloss)\n",
        "\n",
        "        \n",
        "\n",
        "        \n",
        "        runningacc = 100 * running_correct / running_total\n",
        "        train_accuracy.append(runningacc)\n",
        "        running_loss = 0.0\n",
        "        max_acc_div_error.append((lr, runningacc/runningloss))\n",
        "        print('lr %f Epoch %d loss: %.3f acc:%.3f' % (lr ,epoch + 1,runningloss,runningacc))\n",
        "\n",
        "\n",
        "        # evaluate on validation set\n",
        "        valid_loss = 0.0\n",
        "        valid_correct = 0\n",
        "        valid_total = 0\n",
        "        with torch.no_grad():\n",
        "            for data in valid_loader:\n",
        "                images, labels = data[0].to(device), data[1].to(device)\n",
        "                outputs = net(images)\n",
        "                loss = criterion(outputs, labels)\n",
        "                valid_loss += loss.item()\n",
        "\n",
        "                _, predicted = torch.max(outputs.data, 1)\n",
        "                valid_total += labels.size(0)\n",
        "                valid_correct += (predicted == labels).sum().item()\n",
        "\n",
        "        validerror = valid_loss / len(valid_loader)\n",
        "        valid_losses.append(valid_loss / len(valid_loader))\n",
        "        validacc = 100 * valid_correct / valid_total\n",
        "        valid_accuracy.append(validacc)\n",
        "        print('valid: lr %f Epoch %d loss: %.3f acc:%.3f' % (lr ,epoch + 1,validerror,validacc))\n",
        "        \n",
        "    valid__epochDate.append(EpochDate(epoch = epochs,losses = valid_losses,accuracies = valid_accuracy))\n",
        "    train__epochDate.append(EpochDate(epoch = epochs,losses = train_losses,accuracies = train_accuracy))\n",
        "    plot_train_Datas.append(PlotData(lr,epochDate = train__epochDate))\n",
        "    plot_vali_Datas.append(PlotData(lr,epochDate = valid__epochDate))\n",
        "    torch.save(net.state_dict(), f'{lr}_trained_parameters.pth')\n",
        "    print('Finished Training')\n",
        "\n",
        "    "
      ]
    },
    {
      "cell_type": "code",
      "execution_count": 26,
      "metadata": {},
      "outputs": [],
      "source": [
        "from threading import Thread\n",
        "threads = []\n",
        "for lr in learning_rates:\n",
        "    t = Thread(target=train, args=(lr,))\n",
        "    threads.append(t)\n",
        "    t.start()"
      ]
    },
    {
      "cell_type": "code",
      "execution_count": 27,
      "metadata": {},
      "outputs": [
        {
          "name": "stdout",
          "output_type": "stream",
          "text": [
            "lr 0.001000 Epoch 1 loss: 0.014 acc:69.588\n",
            "lr 0.010000 Epoch 1 loss: 0.009 acc:78.392\n",
            "valid: lr 0.001000 Epoch 1 loss: 0.604 acc:77.375\n",
            "valid: lr 0.010000 Epoch 1 loss: 0.414 acc:84.825\n",
            "lr 0.010000 Epoch 2 loss: 0.006 acc:85.983\n",
            "lr 0.001000 Epoch 2 loss: 0.009 acc:79.104\n",
            "valid: lr 0.010000 Epoch 2 loss: 0.386 acc:86.267\n",
            "valid: lr 0.001000 Epoch 2 loss: 0.536 acc:80.308\n",
            "lr 0.010000 Epoch 3 loss: 0.005 acc:87.600\n",
            "lr 0.001000 Epoch 3 loss: 0.008 acc:81.569\n",
            "valid: lr 0.010000 Epoch 3 loss: 0.325 acc:88.242\n",
            "valid: lr 0.001000 Epoch 3 loss: 0.471 acc:82.333\n",
            "lr 0.010000 Epoch 4 loss: 0.005 acc:88.615\n",
            "lr 0.001000 Epoch 4 loss: 0.007 acc:83.388\n",
            "valid: lr 0.010000 Epoch 4 loss: 0.308 acc:89.025\n",
            "valid: lr 0.001000 Epoch 4 loss: 0.447 acc:83.767\n",
            "lr 0.010000 Epoch 5 loss: 0.005 acc:89.252\n",
            "lr 0.001000 Epoch 5 loss: 0.007 acc:84.344\n",
            "valid: lr 0.010000 Epoch 5 loss: 0.301 acc:89.575\n",
            "valid: lr 0.001000 Epoch 5 loss: 0.411 acc:85.533\n",
            "lr 0.010000 Epoch 6 loss: 0.004 acc:89.844\n",
            "lr 0.001000 Epoch 6 loss: 0.006 acc:85.448\n",
            "valid: lr 0.010000 Epoch 6 loss: 0.283 acc:89.850\n",
            "valid: lr 0.001000 Epoch 6 loss: 0.413 acc:85.033\n",
            "lr 0.010000 Epoch 7 loss: 0.004 acc:89.998\n",
            "lr 0.001000 Epoch 7 loss: 0.006 acc:85.838\n",
            "valid: lr 0.010000 Epoch 7 loss: 0.277 acc:90.125\n",
            "valid: lr 0.001000 Epoch 7 loss: 0.382 acc:86.517\n",
            "lr 0.010000 Epoch 8 loss: 0.004 acc:90.335\n",
            "lr 0.001000 Epoch 8 loss: 0.006 acc:86.673\n",
            "valid: lr 0.010000 Epoch 8 loss: 0.275 acc:90.075\n",
            "valid: lr 0.001000 Epoch 8 loss: 0.361 acc:87.442\n",
            "lr 0.010000 Epoch 9 loss: 0.004 acc:90.554\n",
            "lr 0.001000 Epoch 9 loss: 0.006 acc:86.904\n",
            "valid: lr 0.010000 Epoch 9 loss: 0.296 acc:89.117\n",
            "valid: lr 0.001000 Epoch 9 loss: 0.369 acc:86.992\n",
            "lr 0.010000 Epoch 10 loss: 0.004 acc:90.942\n",
            "lr 0.001000 Epoch 10 loss: 0.005 acc:87.162\n",
            "valid: lr 0.010000 Epoch 10 loss: 0.274 acc:90.083\n",
            "Finished Training\n",
            "valid: lr 0.001000 Epoch 10 loss: 0.360 acc:87.167\n",
            "Finished Training\n"
          ]
        }
      ],
      "source": [
        "for t in threads:\n",
        "    t.join()"
      ]
    },
    {
      "cell_type": "code",
      "execution_count": 28,
      "metadata": {},
      "outputs": [
        {
          "name": "stdout",
          "output_type": "stream",
          "text": [
            "Best learning rate: 0.01\n"
          ]
        }
      ],
      "source": [
        "best_lr = max(max_acc_div_error, key = lambda x: x[1])[0] # I try to divide accuracy by error rate, the maximum value of this result better reflects the goodness of the model.\n",
        "print(\"Best learning rate:\", best_lr)"
      ]
    },
    {
      "cell_type": "markdown",
      "metadata": {},
      "source": [
        "# **5. Plots**"
      ]
    },
    {
      "cell_type": "markdown",
      "metadata": {
        "id": "WBYBItDnkw39"
      },
      "source": [
        "Plot the evolution of the Loss function and Accuracy values over the epochs (for train and validation sets) during training the best model.\n",
        "\n",
        "- What can you infere from the training curves of the model? \n",
        "- Is there over- or underfitting?"
      ]
    },
    {
      "cell_type": "code",
      "execution_count": 47,
      "metadata": {
        "id": "wCBoEPIclnSP"
      },
      "outputs": [
        {
          "name": "stdout",
          "output_type": "stream",
          "text": [
            "range(1, 11)\n",
            "range(1, 11)\n"
          ]
        },
        {
          "data": {
            "image/png": "[encoded data removed]",
            "text/plain": [
              "<Figure size 640x480 with 2 Axes>"
            ]
          },
          "metadata": {},
          "output_type": "display_data"
        },
        {
          "data": {
            "image/png": "[encoded data removed]",
            "text/plain": [
              "<Figure size 640x480 with 2 Axes>"
            ]
          },
          "metadata": {},
          "output_type": "display_data"
        }
      ],
      "source": [
        "import matplotlib.pyplot as plt\n",
        "# Plotting the loss and accuracy curves\n",
        "#plot_train_Datas\n",
        "i=0\n",
        "for plotdata in plot_train_Datas:\n",
        "    lr = plotdata.lr\n",
        "    val_plotdatas=plot_vali_Datas[i].epochDate\n",
        "    j = 0\n",
        "    for item2 in plotdata.epochDate:\n",
        "        val_epochData =val_plotdatas[j]\n",
        "        #print(val_epochData)\n",
        "        #print(item2)\n",
        "        x = range(1,item2.epoch+1)\n",
        "        y1 = item2.losses\n",
        "        y2  =  item2.accuracies\n",
        "        y3 = val_epochData.losses\n",
        "        y4  =  val_epochData.accuracies\n",
        "        #plt.figure(figsize=(10, 5))\n",
        "        fig, axs = plt.subplots(2)\n",
        "\n",
        "        axs[0].plot(x, y2, label='Training Acc') \n",
        "        axs[0].plot(x, y4, label='Val Acc',linestyle='--')  \n",
        "        axs[0].set_title(f'ACC {lr}') \n",
        "        axs[0].set_xlabel('Epoch')\n",
        "        axs[0].set_ylabel('Acc')\n",
        "        axs[0].legend()\n",
        "\n",
        "        \n",
        "\n",
        "        axs[1].plot(x, y1, label='Training Loss')\n",
        "        axs[1].plot(x, y3, label='Val Loss',linestyle='--')\n",
        "        axs[1].set_title(f'Loss  {lr}')\n",
        "        axs[1].set_xlabel('Epoch')\n",
        "        axs[1].set_ylabel('Loss')\n",
        "        axs[1].legend()\n",
        "        plt.subplots_adjust(hspace=0.5) \n",
        "        print(x)\n",
        "        j = j + 1\n",
        "    i = i + 1\n",
        "\n"
      ]
    },
    {
      "cell_type": "markdown",
      "metadata": {},
      "source": [
        "<font color=#3366FF>Firstly, it can be inferred from the graph that when the learning rate is 0.001, the model has learned some content. Since the training and validation sets are similar, it is difficult to determine whether it is overfitting or underfitting. However, from the test dataset, there seems to be a certain degree of underfitting.</font>\n"
      ]
    },
    {
      "cell_type": "markdown",
      "metadata": {},
      "source": [
        "# **6. Run inference**"
      ]
    },
    {
      "cell_type": "markdown",
      "metadata": {
        "id": "upl8PW0vkw6O"
      },
      "source": [
        "Run inference in the test set and compute the metrics for testing."
      ]
    },
    {
      "cell_type": "code",
      "execution_count": 30,
      "metadata": {
        "id": "Pf4aGJtclsZr"
      },
      "outputs": [],
      "source": [
        "\n",
        "net = Net().to(device)\n",
        "path = f\"./{best_lr}_trained_parameters.pth\"\n",
        "net.load_state_dict(torch.load(path))\n",
        "def test(dataset):\n",
        "    correct = 0\n",
        "    total = 0\n",
        "    with torch.no_grad():\n",
        "        for data in dataset:\n",
        "            images, labels = data[0].to(device), data[1].to(device)\n",
        "            outputs = net(images)\n",
        "            _, predicted = torch.max(outputs.data, 1)\n",
        "            total += labels.size(0)\n",
        "            correct += (predicted == labels).sum().item()\n",
        "    return 100 * correct / total"
      ]
    },
    {
      "cell_type": "markdown",
      "metadata": {},
      "source": [
        "# **7. Test samples**"
      ]
    },
    {
      "cell_type": "markdown",
      "metadata": {
        "id": "rpP6xohukw8t"
      },
      "source": [
        "Show some samples from the test set. Use the following layout: input image, reference class and predicted class."
      ]
    },
    {
      "cell_type": "code",
      "execution_count": 31,
      "metadata": {
        "id": "QjRHKsLalyQJ"
      },
      "outputs": [],
      "source": [
        "acc = test(test_loader)"
      ]
    },
    {
      "cell_type": "code",
      "execution_count": 32,
      "metadata": {},
      "outputs": [
        {
          "data": {
            "text/plain": [
              "89.53"
            ]
          },
          "execution_count": 32,
          "metadata": {},
          "output_type": "execute_result"
        }
      ],
      "source": [
        "acc"
      ]
    },
    {
      "cell_type": "markdown",
      "metadata": {},
      "source": [
        "# **8. Testing with new images**"
      ]
    },
    {
      "attachments": {},
      "cell_type": "markdown",
      "metadata": {
        "id": "3-WqJgC2mMi3"
      },
      "source": [
        "\n",
        "Test the model with at least two images (from internet or take a photo with your phone or camera). \n",
        "\n",
        "Do not forget to convert the image to the Fashion MNIST format: grayscale, $28\\times 28$, apply normalization, etc. \n",
        "\n",
        "Comment the results."
      ]
    },
    {
      "cell_type": "code",
      "execution_count": 33,
      "metadata": {
        "id": "cEvjQjS-mW6y"
      },
      "outputs": [],
      "source": [
        "import cv2 "
      ]
    },
    {
      "cell_type": "code",
      "execution_count": 34,
      "metadata": {},
      "outputs": [],
      "source": [
        "image_url = \"https://encrypted-tbn0.gstatic.com/images?q=tbn:ANd9GcRq1XCYWZLfMDq7qFb2HeYhkQwuolzFg90hfXXJE_bbLg&s\""
      ]
    },
    {
      "cell_type": "code",
      "execution_count": 35,
      "metadata": {},
      "outputs": [],
      "source": [
        "import requests\n",
        "response = requests.get(image_url)"
      ]
    },
    {
      "cell_type": "code",
      "execution_count": 36,
      "metadata": {},
      "outputs": [
        {
          "data": {
            "text/plain": [
              "<Response [200]>"
            ]
          },
          "execution_count": 36,
          "metadata": {},
          "output_type": "execute_result"
        }
      ],
      "source": [
        "response"
      ]
    },
    {
      "cell_type": "code",
      "execution_count": 37,
      "metadata": {},
      "outputs": [],
      "source": [
        "image_source = np.asarray(bytearray(response.content),dtype=np.uint8)"
      ]
    },
    {
      "cell_type": "code",
      "execution_count": 38,
      "metadata": {},
      "outputs": [
        {
          "data": {
            "text/plain": [
              "array([255, 216, 255, ...,  63, 255, 217], dtype=uint8)"
            ]
          },
          "execution_count": 38,
          "metadata": {},
          "output_type": "execute_result"
        }
      ],
      "source": [
        "image_source"
      ]
    },
    {
      "cell_type": "code",
      "execution_count": 39,
      "metadata": {},
      "outputs": [],
      "source": [
        "image = cv2.imdecode(image_source,cv2.IMREAD_GRAYSCALE)"
      ]
    },
    {
      "cell_type": "code",
      "execution_count": 40,
      "metadata": {},
      "outputs": [],
      "source": [
        "from IPython.display import display, Image"
      ]
    },
    {
      "cell_type": "code",
      "execution_count": 41,
      "metadata": {},
      "outputs": [
        {
          "data": {
            "image/jpeg": "[encoded data removed]",
            "text/plain": [
              "<IPython.core.display.Image object>"
            ]
          },
          "metadata": {},
          "output_type": "display_data"
        }
      ],
      "source": [
        "ret, buffer = cv2.imencode('.jpg', image)\n",
        "image_jpg = buffer.tobytes()\n",
        "display(Image(data=image_jpg))"
      ]
    },
    {
      "cell_type": "code",
      "execution_count": 42,
      "metadata": {},
      "outputs": [],
      "source": [
        "input_tensor = composer(image)"
      ]
    },
    {
      "cell_type": "code",
      "execution_count": 43,
      "metadata": {},
      "outputs": [],
      "source": [
        "output = net(input_tensor.to(device))"
      ]
    },
    {
      "cell_type": "code",
      "execution_count": 44,
      "metadata": {},
      "outputs": [],
      "source": [
        "_, predicted_class = torch.max(output, 1)"
      ]
    },
    {
      "cell_type": "code",
      "execution_count": 45,
      "metadata": {},
      "outputs": [],
      "source": [
        "predicted_class = predicted_class.item()"
      ]
    },
    {
      "cell_type": "code",
      "execution_count": 46,
      "metadata": {},
      "outputs": [
        {
          "data": {
            "text/plain": [
              "'Bag'"
            ]
          },
          "execution_count": 46,
          "metadata": {},
          "output_type": "execute_result"
        }
      ],
      "source": [
        "classes[predicted_class]"
      ]
    },
    {
      "attachments": {},
      "cell_type": "markdown",
      "metadata": {
        "id": "F48NbzdEmXUm"
      },
      "source": [
        "# **9. How could we improve the trained model?**"
      ]
    },
    {
      "cell_type": "markdown",
      "metadata": {
        "id": "5i3rw6SJmYpo"
      },
      "source": [
        "Share your ideas and comments to further improve the results."
      ]
    },
    {
      "cell_type": "markdown",
      "metadata": {},
      "source": [
        "<font color=#3366FF>\n",
        "1. Firstly, GPU to use. Adjusting batch size and adding batch normalization layers can enhance generalization capability and optimize transformers.<br>\n",
        "2. Increase the model depth, for example, by using VGG, ResNet, or even VIT networks.<br>\n",
        "3. Modify activation functions.for example, by using Tanh, Leaky ReLU, Swish.<br>\n",
        "4. Modify the loss function and optimizer. for example, by using Adam,Adagrad.\n",
        "\n",
        "</font>"
      ]
    }
  ],
  "metadata": {
    "colab": {
      "collapsed_sections": [],
      "name": "Deep_Learning_Task.ipynb",
      "provenance": []
    },
    "kernelspec": {
      "display_name": "Python 3",
      "name": "python3"
    },
    "language_info": {
      "codemirror_mode": {
        "name": "ipython",
        "version": 3
      },
      "file_extension": ".py",
      "mimetype": "text/x-python",
      "name": "python",
      "nbconvert_exporter": "python",
      "pygments_lexer": "ipython3",
      "version": "3.10.14"
    }
  },
  "nbformat": 4,
  "nbformat_minor": 0
}
