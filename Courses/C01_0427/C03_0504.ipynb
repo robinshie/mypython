{
 "cells": [
  {
   "cell_type": "code",
   "execution_count": 1,
   "metadata": {},
   "outputs": [
    {
     "name": "stdout",
     "output_type": "stream",
     "text": [
      "随机张量： tensor([[0.0027, 0.2074, 0.2339],\n",
      "        [0.9324, 0.3387, 0.6217],\n",
      "        [0.2496, 0.6454, 0.9088],\n",
      "        [0.1658, 0.8611, 0.7748],\n",
      "        [0.8054, 0.5741, 0.3860]])\n",
      "张量形状： torch.Size([5, 3])\n"
     ]
    }
   ],
   "source": [
    "import torch\n",
    "\n",
    "# 创建一个 2x3 的随机张量\n",
    "x = torch.rand(2, 3)\n",
    "print(\"随机张量：\", x)\n",
    "\n",
    "# 查看张量的形状\n",
    "print(\"张量形状：\", x.size())\n",
    "\n",
    "# 创建一个全零张量\n",
    "zeros_tensor = torch.zeros(2, 3)\n",
    "print(\"全零张量：\", zeros_tensor)\n",
    "\n",
    "# 创建一个全一张量\n",
    "ones_tensor = torch.ones(2, 3)\n",
    "print(\"全一张量：\", ones_tensor)\n"
   ]
  },
  {
   "cell_type": "code",
   "execution_count": 2,
   "metadata": {},
   "outputs": [
    {
     "name": "stdout",
     "output_type": "stream",
     "text": [
      "原始张量： tensor([[1., 2.],\n",
      "        [3., 4.]], requires_grad=True)\n",
      "输出张量： tensor(64.5000, grad_fn=<MeanBackward0>)\n",
      "梯度： tensor([[4.5000, 6.0000],\n",
      "        [7.5000, 9.0000]])\n"
     ]
    }
   ],
   "source": [
    "# 创建一个张量，并设置 requires_grad=True 来跟踪它的计算历史\n",
    "x = torch.tensor([[1., 2.], [3., 4.]], requires_grad=True)\n",
    "\n",
    "# 进行张量运算\n",
    "y = x + 2\n",
    "z = y * y * 3\n",
    "out = z.mean()\n",
    "\n",
    "# 使用 backward() 方法进行反向传播\n",
    "out.backward()\n",
    "\n",
    "# 输出梯度\n",
    "print(\"梯度：\", x.grad)\n"
   ]
  },
  {
   "cell_type": "code",
   "execution_count": 3,
   "metadata": {},
   "outputs": [
    {
     "name": "stderr",
     "output_type": "stream",
     "text": [
      "c:\\Users\\Robin\\anaconda3\\envs\\chatcaht\\lib\\site-packages\\tqdm\\auto.py:21: TqdmWarning: IProgress not found. Please update jupyter and ipywidgets. See https://ipywidgets.readthedocs.io/en/stable/user_install.html\n",
      "  from .autonotebook import tqdm as notebook_tqdm\n"
     ]
    }
   ],
   "source": [
    "import torch\n",
    "import torch.nn as nn\n",
    "import torch.optim as optim\n",
    "import matplotlib.pyplot as plt\n",
    "\n",
    "# 定义一个简单的神经网络\n",
    "class Net(nn.Module):\n",
    "    def __init__(self):\n",
    "        super(Net, self).__init__()\n",
    "        self.fc1 = nn.Linear(10, 5)\n",
    "        self.fc2 = nn.Linear(5, 1)\n",
    "    \n",
    "    def forward(self, x):\n",
    "        x = torch.relu(self.fc1(x))\n",
    "        x = self.fc2(x)\n",
    "        return x\n",
    "\n",
    "# 准备模拟数据\n",
    "inputs = torch.randn(100, 10)\n",
    "labels = torch.randn(100, 1)\n",
    "\n",
    "# 实例化神经网络、损失函数和优化器\n",
    "net = Net()\n",
    "criterion = nn.MSELoss()\n",
    "optimizer = optim.SGD(net.parameters(), lr=0.01)\n",
    "\n",
    "# 训练神经网络并记录损失和准确率\n",
    "losses = []\n",
    "for epoch in range(100):\n",
    "    # 梯度清零\n",
    "    optimizer.zero_grad()\n",
    "    \n",
    "    # 前向传播\n",
    "    outputs = net(inputs)\n",
    "    \n",
    "    # 计算损失\n",
    "    loss = criterion(outputs, labels)\n",
    "    losses.append(loss.item())  # 记录每个epoch的损失\n",
    "    \n",
    "    # 反向传播和优化\n",
    "    loss.backward()\n",
    "    optimizer.step()\n",
    "\n",
    "# 绘制损失曲线\n",
    "plt.plot(losses, label='Loss')\n",
    "plt.xlabel('Epoch')\n",
    "plt.ylabel('Loss')\n",
    "plt.title('Training Loss Curve')\n",
    "plt.legend()\n",
    "plt.show()\n"
   ]
  },
  {
   "cell_type": "code",
   "execution_count": null,
   "metadata": {},
   "outputs": [],
   "source": [
    "# 定义准确率指标\n",
    "def accuracy(outputs, labels):\n",
    "    with torch.no_grad():\n",
    "        predicted = (outputs > 0.5).float()\n",
    "        correct = (predicted == labels).float()\n",
    "        accuracy = correct.sum() / len(correct)\n",
    "        return accuracy.item()\n",
    "\n",
    "# 训练神经网络并记录损失和准确率\n",
    "losses = []\n",
    "accuracies = []\n",
    "for epoch in range(100):\n",
    "    # 梯度清零\n",
    "    optimizer.zero_grad()\n",
    "    \n",
    "    # 前向传播\n",
    "    outputs = net(inputs)\n",
    "    \n",
    "    # 计算损失\n",
    "    loss = criterion(outputs, labels)\n",
    "    losses.append(loss.item())  # 记录每个epoch的损失\n",
    "    \n",
    "    # 计算准确率\n",
    "    acc = accuracy(outputs, labels)\n",
    "    accuracies.append(acc)  # 记录每个epoch的准确率\n",
    "    \n",
    "    # 反向传播和优化\n",
    "    loss.backward()\n",
    "    optimizer.step()\n",
    "\n",
    "# 绘制损失和准确率曲线\n",
    "plt.plot(losses, label='Loss')\n",
    "plt.plot(accuracies, label='Accuracy')\n",
    "plt.xlabel('Epoch')\n",
    "plt.title('Training Loss and Accuracy Curve')\n",
    "plt.legend()\n",
    "plt.show()\n"
   ]
  }
 ],
 "metadata": {
  "kernelspec": {
   "display_name": "chatcaht",
   "language": "python",
   "name": "python3"
  },
  "language_info": {
   "codemirror_mode": {
    "name": "ipython",
    "version": 3
   },
   "file_extension": ".py",
   "mimetype": "text/x-python",
   "name": "python",
   "nbconvert_exporter": "python",
   "pygments_lexer": "ipython3",
   "version": "3.10.13"
  }
 },
 "nbformat": 4,
 "nbformat_minor": 2
}
